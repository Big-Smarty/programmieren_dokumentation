{
 "cells": [
  {
   "cell_type": "markdown",
   "id": "7e6a602e-be87-4212-ba8b-21cdcc9c97e1",
   "metadata": {},
   "source": [
    "# Tutorium Programmieren (Prof. Dr. Ralf Gerlich)\n",
    "# Aufgabenblatt 5"
   ]
  },
  {
   "cell_type": "markdown",
   "id": "861133d1-535b-43f6-9d77-3e5ff4a37732",
   "metadata": {},
   "source": [
    "## Aufgabe 1: Zahlen raten\n",
    "Schreiben Sie ein Stück Python-Code, das mit maximal 10 Versuchen eine Zahl zwischen 0 und 1023 (jeweils einschließlich) raten soll. Verwenden Sie dafür Bisektionssuche: Das Programm darf Fragen der Art \"Ist die Zahl größer als 125?\" stellen.\n",
    "\n",
    "So testen Sie Ihr Programm: Denken Sie sich eine Zahl zwischen 0 und 1023 (jeweils einschließlich) aus und lassen Sie das Programm raten.\n",
    "\n",
    "**Optionale Zusatzfrage**: Welchen Grund könnte wohl die \"krumme\" Zahl 1023 haben?"
   ]
  },
  {
   "cell_type": "code",
   "execution_count": null,
   "id": "54b26be6",
   "metadata": {},
   "outputs": [],
   "source": [
    "def binary_search(region, attempts=1):\n",
    "    # 0 => kleiner, 1 => größer, 2 => richtig\n",
    "    match int(\n",
    "        input(\n",
    "            \"Ist es \"\n",
    "            + str(region[(len(region) - 1) // 2])\n",
    "            + \"? (0 => kleiner, 1 => größer, 2 => richtig)\\n\"\n",
    "        )\n",
    "    ):\n",
    "        case 0:\n",
    "            return binary_search(region[: (len(region) - 1) // 2 - 1], attempts + 1)\n",
    "        case 1:\n",
    "            return binary_search(region[(len(region) - 1) // 2 + 1 : :], attempts + 1)\n",
    "        case 2:\n",
    "            print(\n",
    "                str(region[(len(region) - 1) // 2])\n",
    "                + \" nach \"\n",
    "                + str(attempts)\n",
    "                + \" Versuch(en) gefunden\\n\"\n",
    "            )\n",
    "            return region[(len(region) - 1) // 2]\n",
    "\n",
    "\n",
    "binary_search(range(0, 1024, 1))\n"
   ]
  },
  {
   "cell_type": "markdown",
   "id": "67d08b43",
   "metadata": {},
   "source": [
    "1023 ist die größte Zahl, welche sich mit 10 Bits darstellen lässt. Binary Search ist ein Algorithmus mit logarithmischer Komplexität, also kann es in maximal 2^n Versuchen das richtige aus n Elementen finden. In der Aufgabe sind maximal 10 Versuche beschrieben, also darf man, um die maximale Anzahl von Elementen nicht zu überschreiten, maximal 2^10 Elemente benutzen, in diesem Fall alles von 0 bis 2^10-1"
   ]
  },
  {
   "attachments": {},
   "cell_type": "markdown",
   "id": "abac7f41-2725-41f9-b6ec-3a1cd0b071a0",
   "metadata": {},
   "source": [
    "## Aufgabe 2: Wurzelberechnung\n",
    "Schreiben Sie ein Programm, das zwei Kommazahlen `p` und `q` einliest und die beiden Lösungen der Quadratischen Gleichung $x^2+px+q=0$ ausgibt. Diese Lösungen können Sie mit der sogenannten p-q-Formel berechnen: $$x_{1,2} = -\\frac{p}{2} \\pm \\sqrt{\\left(\\frac{p}{2}\\right)^2 - q}$$\n",
    "\n",
    "Falls keine reelle Lösung existiert ($\\left(\\frac{p}{2}\\right)^2 < q$), soll statt der Lösungen eine entsprechende Meldung ausgegeben werden.\n",
    "\n",
    "**Hinweis**: In der untenstehenden Zelle können Sie den Ausdruck `sqrt(x)` zur Berechnung der Wurzel von `x` verwenden.\n",
    "\n",
    "Geben Sie zusätzlich auch die Werte von $x^2+px+q$ für $x=x_1$ und $x=x_2$ aus.\n",
    "\n",
    "Probieren Sie das Programm mit den Werten `1` für `p` und `1E-16` für `q` aus. Können Sie sich das Ergebnis erklären?"
   ]
  },
  {
   "cell_type": "code",
   "execution_count": 1,
   "id": "aaca449a-7b1e-40a8-b5f0-e2857428dfdf",
   "metadata": {},
   "outputs": [],
   "source": [
    "from math import sqrt\n",
    "\n",
    "q = float(input(\"q: \"))\n",
    "p = float(input(\"p: \"))\n",
    "\n",
    "if pow(p / 2, 2) < 2:\n",
    "    print(\"Fehler: Keine reelle Lösung!\")\n",
    "else:\n",
    "    x1 = -(p / 2) + sqrt(pow(p / 2, 2) - q)\n",
    "    x2 = -(p / 2) - sqrt(pow(p / 2, 2) - q)\n",
    "    print(\"x1: \" + str(x1) + \"\\nx2: \" + str(x2))\n",
    "    print(\"x1²+px1+q = \" + str(pow(x1, 2) + p * x1 + q))\n",
    "    print(\"x2²+px2+q = \" + str(pow(x2, 2) + p * x2 + q))\n"
   ]
  },
  {
   "cell_type": "markdown",
   "id": "6469ec0d-3f9f-4d5b-b46f-18881cd547af",
   "metadata": {},
   "source": [
    "## Aufgabe 3: Binärdarstellung\n",
    "Implementieren Sie eine Funktion `to_bin`, die für eine nicht-negative ganze Zahl deren kürzestmögliche Binärdarstellung als String zurückliefert. Zur Berechnung der Binärdarstellung dürfen Sie keine Bibliotheksfunktionen verwenden!\n",
    "\n",
    "Testen Sie die Funktion mit dem vorgegebenen Testprogramm."
   ]
  },
  {
   "cell_type": "code",
   "execution_count": 6,
   "id": "e950abce-c114-4443-b7e5-f63ea2c2fa98",
   "metadata": {},
   "outputs": [
    {
     "name": "stdout",
     "output_type": "stream",
     "text": [
      "Nicht-negative Ganzzahl eingeben: -2\n",
      "Nicht-negative Ganzzahl eingeben: 1\n"
     ]
    },
    {
     "name": "stdout",
     "output_type": "stream",
     "text": [
      "Die Binärdarstellung von 1 ist None\n"
     ]
    }
   ],
   "source": [
    "def to_bin(zahl):\n",
    "    def to_bin(x):\n",
    "        if x == 0:\n",
    "            return \"0\"\n",
    "        return str(x % 2) + to_bin(x // 2)\n",
    "\n",
    "\n",
    "print(to_bin(int(input(\"Welche Zahl soll konvertiert werden?\\n\")))[::-1])\n",
    "\n",
    "\n",
    "while True:\n",
    "    zahl = int(input(\"Nicht-negative Ganzzahl eingeben:\"))\n",
    "    if zahl >= 0:\n",
    "        print(f\"Die Binärdarstellung von {zahl} ist {to_bin(zahl)}\")\n",
    "        break"
   ]
  },
  {
   "cell_type": "code",
   "execution_count": null,
   "id": "75e4ff29-1228-4068-a2fa-cb6841e6e995",
   "metadata": {},
   "outputs": [],
   "source": []
  },
  {
   "cell_type": "markdown",
   "id": "3c4f6a61-23da-46b2-b161-df7216454a9c",
   "metadata": {},
   "source": [
    "## Aufgabe 4: Suche im Telefonbuch\n",
    "Die Datei `telefonbuch.csv` enthält eine Liste von fiktiven Nachnamen, Vornamen und Telefonnummern. Sie ist ähnlich der Datei mit der Star-Trek-Episodenliste aus Aufgabenblatt 4 formatiert. Die Einträge sind aufsteigend nach Nach- und Vorname sortiert.\n",
    "\n",
    "Schreiben Sie ein Programm, das alle Einträge in eine Liste von Tupeln einliest, dann nach einem Nach- und Vornamen fragt und - sofern vorhanden - die zugehörige Telefonnummer ausgibt. Verwenden Sie das Bisektionsverfahren, um den gesuchten Eintrag innerhalb von 10 Vergleichen oder weniger zu finden."
   ]
  },
  {
   "cell_type": "code",
   "execution_count": null,
   "id": "06cc7844-c082-42bf-a9f1-dabd97aee06d",
   "metadata": {},
   "outputs": [],
   "source": [
    "def binary_search(region, name):\n",
    "    if name.lower() == region[(len(region) - 1) // 2][0].lower():\n",
    "        return region[(len(region) - 1) // 2]\n",
    "\n",
    "    if name.lower() < region[(len(region) - 1) // 2][0].lower():\n",
    "        return binary_search(region[: (len(region) - 1) // 2 - 1], name)\n",
    "\n",
    "    if name.lower() > region[(len(region) - 1) // 2][0].lower():\n",
    "        return binary_search(region[(len(region) + 1) // 2 - 1 : :], name)\n",
    "\n",
    "\n",
    "entries = []\n",
    "book = open(\"telefonbuch.csv\", \"r\")\n",
    "for l in book.readlines()[1::]:\n",
    "    temp = l.split(\";\")\n",
    "    if temp == [\"\\n\"]:\n",
    "        continue\n",
    "    entries.append((temp[0], temp[1], temp[2]))\n",
    "\n",
    "fragment = input(\"Nach welchem Namen suchen sie?\\n\")\n",
    "out = binary_search(entries, fragment)\n",
    "print(\"Name: \" + out[0] + \" \" + out[1] + \"\\nTelefonnummer: \" + out[2])\n"
   ]
  }
 ],
 "metadata": {
  "kernelspec": {
   "display_name": "Python 3 (ipykernel)",
   "language": "python",
   "name": "python3"
  },
  "language_info": {
   "codemirror_mode": {
    "name": "ipython",
    "version": 3
   },
   "file_extension": ".py",
   "mimetype": "text/x-python",
   "name": "python",
   "nbconvert_exporter": "python",
   "pygments_lexer": "ipython3",
   "version": "3.12.2"
  }
 },
 "nbformat": 4,
 "nbformat_minor": 5
}
